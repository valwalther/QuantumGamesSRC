{
 "cells": [
  {
   "cell_type": "markdown",
   "metadata": {},
   "source": [
    "# Here are our Quantum Games:\n",
    "\n",
    "\n",
    "<p style=\"color:blue;font-size:18px;\"><large><a href=./games/stiritup.ipynb> Stir it up </a></large></p>\n",
    "<p style=\"color:blue;font-size:18px;\">Atomic shuttle</large></p>\n",
    "<p style=\"color:blue;font-size:18px;\">Algorithm puzzle</large></p>"
   ]
  },
  {
   "cell_type": "code",
   "execution_count": null,
   "metadata": {},
   "outputs": [],
   "source": []
  }
 ],
 "metadata": {
  "kernelspec": {
   "display_name": "Python 3",
   "language": "python",
   "name": "python3"
  },
  "language_info": {
   "codemirror_mode": {
    "name": "ipython",
    "version": 3
   },
   "file_extension": ".py",
   "mimetype": "text/x-python",
   "name": "python",
   "nbconvert_exporter": "python",
   "pygments_lexer": "ipython3",
   "version": "3.8.1"
  }
 },
 "nbformat": 4,
 "nbformat_minor": 2
}
